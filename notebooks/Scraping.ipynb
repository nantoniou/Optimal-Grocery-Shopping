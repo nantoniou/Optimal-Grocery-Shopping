{
 "cells": [
  {
   "cell_type": "markdown",
   "id": "4d3a9d24-9321-4214-a30d-180a33aed0fe",
   "metadata": {},
   "source": [
    "# Scraping data to create the dataset"
   ]
  },
  {
   "cell_type": "markdown",
   "id": "2c3db097-dae2-4710-9485-2b5745d25bb0",
   "metadata": {},
   "source": [
    "## Imports"
   ]
  },
  {
   "cell_type": "code",
   "execution_count": 2,
   "id": "f52ea2a5-28e5-4416-9ff4-35487b35fcd1",
   "metadata": {
    "tags": []
   },
   "outputs": [],
   "source": [
    "import requests\n",
    "from bs4 import BeautifulSoup\n",
    "import pandas as pd\n",
    "import re\n",
    "from tqdm import tqdm"
   ]
  },
  {
   "cell_type": "markdown",
   "id": "3147c556-06ff-4281-b356-5dc8f7de1197",
   "metadata": {},
   "source": [
    "## Create Product List"
   ]
  },
  {
   "cell_type": "code",
   "execution_count": 68,
   "id": "7dbf3361-4df4-40a0-a8c8-8b6586a8c57d",
   "metadata": {
    "tags": []
   },
   "outputs": [],
   "source": [
    "with open('../data/All Products at Whole Foods Market_final.htm', 'r', encoding='utf-8') as file:\n",
    "    html_content = file.read()\n",
    "\n",
    "soup = BeautifulSoup(html_content, 'html.parser')\n",
    "\n",
    "len(soup.find_all(class_='w-pie--product-tile__link'))"
   ]
  },
  {
   "cell_type": "code",
   "execution_count": 148,
   "id": "709d31c1-a495-4e5e-999f-0ace4ecbe719",
   "metadata": {
    "tags": []
   },
   "outputs": [],
   "source": [
    "i = 0\n",
    "products = []\n",
    "for nutr_element in soup.find_all(class_='w-pie--product-tile__link'):\n",
    "    \n",
    "    if not nutr_element: continue\n",
    "    \n",
    "    product = nutr_element.find(attrs={\"data-testid\": \"product-tile-name\"}).get_text()\n",
    "    \n",
    "    brand = nutr_element.find(attrs={\"data-testid\": \"product-tile-brand\"})\n",
    "    if brand: brand = brand.get_text()\n",
    "    \n",
    "    if \"Prime\" in nutr_element.get_text(): #print(nutr_element)\n",
    "        price = nutr_element.find(class_=\"bds--heading-5 mr-1 inline px-1 !text-base\").get_text()\n",
    "        #print(\"Price: \", )\n",
    "    else:\n",
    "        price = nutr_element.find(class_=\"text-left bds--heading-5\").get_text()\n",
    "        #print(\"Price: \", price)\n",
    "    \n",
    "    href = nutr_element[\"href\"]\n",
    "    \n",
    "    products.append(\n",
    "        [product, brand, price, href]\n",
    "    )\n",
    "    \n",
    "    #i+=1\n",
    "    #if i == 1000: break"
   ]
  },
  {
   "cell_type": "code",
   "execution_count": 150,
   "id": "fb328116-00f6-4bf9-a469-e34745f7d943",
   "metadata": {
    "tags": []
   },
   "outputs": [],
   "source": [
    "df = pd.DataFrame(products, columns=['product_name', 'product_brand', 'price', 'href'])\n",
    "df.to_csv('../data/product_list.csv', index=False)"
   ]
  },
  {
   "cell_type": "markdown",
   "id": "556c6295-43d9-4c80-b781-77086262ea29",
   "metadata": {},
   "source": [
    "## Get Nutritional data"
   ]
  },
  {
   "cell_type": "code",
   "execution_count": 155,
   "id": "b01898fa-75bf-460f-95bb-ce3cce3a6a04",
   "metadata": {
    "tags": []
   },
   "outputs": [],
   "source": [
    "session = requests.Session()"
   ]
  },
  {
   "cell_type": "code",
   "execution_count": 528,
   "id": "50f46c9d-af89-45e8-939e-285424fddf29",
   "metadata": {
    "tags": []
   },
   "outputs": [],
   "source": [
    "def get_nutritional_data(href, serving_size_pattern):\n",
    "    \n",
    "    response = session.get(href)\n",
    "    soup = BeautifulSoup(response.text, 'html.parser')\n",
    "    nutr_rows = soup.find_all(class_='nutrition-row')\n",
    "    \n",
    "    if not nutr_rows: return\n",
    "\n",
    "    # initialise with None\n",
    "    (serving_size, calories, total_fat_amount, saturated_fat, trans_fat, cholesterol,\n",
    "     sodium, carbs, fiber, sugars, added_sugar, protein, vit_d, potassium, iron, calcium) = [None] * 16\n",
    "\n",
    "    # ---------- Nutritional elements indices ----------\n",
    "    \n",
    "    nutr_row_texts = [nutr_row.get_text().lower() for nutr_row in nutr_rows]\n",
    "    \n",
    "    nutr_elements = ['serving', 'calories', 'total fat', 'sat fat', 'trans fat', 'cholesterol', 'sodium', 'carbohydrates',\n",
    "                     'fiber', 'sugars', 'added sugar', 'protein', 'vitamin d', 'potassium', 'iron', 'calcium']\n",
    "\n",
    "    nutr_elements_idx = {keyword: None for keyword in nutr_elements}\n",
    "\n",
    "    # Iterate over each keyword and find the index\n",
    "    for nutr_element in nutr_elements:\n",
    "        for index, string in enumerate(nutr_row_texts):\n",
    "            if nutr_element in string:\n",
    "                nutr_elements_idx[nutr_element] = index\n",
    "                break  # Stop searching after the first match\n",
    "                \n",
    "                \n",
    "    # --------------------------------------------------\n",
    "    \n",
    "    if nutr_elements_idx['serving'] != None: # usually zero, se we use not None to check existence\n",
    "        matched = pattern.search(nutr_rows[nutr_elements_idx['serving']].get_text())\n",
    "        if matched: serving_size = matched.group(1).split()[0] # can be grams or mL\n",
    "        \n",
    "    if nutr_elements_idx['calories']:\n",
    "        calories = nutr_rows[nutr_elements_idx['calories']].find(\n",
    "            class_='nutrition-column calories-row amount text-right align-bottom').get_text()\n",
    "        \n",
    "    if nutr_elements_idx['total fat']:\n",
    "        total_fat_amount = nutr_rows[nutr_elements_idx['total fat']].find(\n",
    "            'span', class_='text-bold').next_sibling.strip()[:-1]\n",
    "        \n",
    "    if nutr_elements_idx['sat fat']:\n",
    "        saturated_fat    = nutr_rows[nutr_elements_idx['sat fat']].find(\n",
    "            'span', class_='text-indent').get_text(strip=True).split()[-1][:-1]\n",
    "        \n",
    "    if nutr_elements_idx['trans fat']:\n",
    "        trans_fat        = nutr_rows[nutr_elements_idx['trans fat']].find(\n",
    "            'span', class_='text-indent').get_text(strip=True).split()[-1][:-1]\n",
    "        \n",
    "    if nutr_elements_idx['cholesterol']:\n",
    "        cholesterol      = nutr_rows[nutr_elements_idx['cholesterol']].find(\n",
    "            'span', class_='text-bold').next_sibling.strip()[:-2]\n",
    "        \n",
    "    if nutr_elements_idx['sodium']:\n",
    "        sodium           = nutr_rows[nutr_elements_idx['sodium']].find(\n",
    "            'span', class_='text-bold').next_sibling.strip()[:-2]\n",
    "    if nutr_elements_idx['carbohydrates']:\n",
    "        carbs            = nutr_rows[nutr_elements_idx['carbohydrates']].find(\n",
    "            'span', class_='text-bold').next_sibling.strip()[:-1]\n",
    "        \n",
    "    if nutr_elements_idx['fiber'] and \"Soluble\" not in nutr_rows[nutr_elements_idx['fiber']].get_text():\n",
    "        fiber            = nutr_rows[nutr_elements_idx['fiber']].find(\n",
    "            'span', class_='text-indent').get_text(strip=True).split()[-1][:-1]\n",
    "        \n",
    "    if nutr_elements_idx['sugars']:\n",
    "        sugars           = nutr_rows[nutr_elements_idx['sugars']].find(\n",
    "            'span', class_='text-indent').get_text(strip=True).split()[-1][:-1]\n",
    "        \n",
    "    if nutr_elements_idx['added sugar']:\n",
    "        added_sugar      = nutr_rows[nutr_elements_idx['added sugar']].find(\n",
    "            'span', class_='text-indent').get_text(strip=True).split()[-1][:-1]\n",
    "        \n",
    "    if nutr_elements_idx['protein']:\n",
    "        protein          = nutr_rows[nutr_elements_idx['protein']].find(\n",
    "            'span', class_='text-bold').next_sibling.strip()[:-1]\n",
    "        \n",
    "    if nutr_elements_idx['vitamin d']:\n",
    "        vit_d            = nutr_rows[nutr_elements_idx['vitamin d']].find(\n",
    "            class_='nutrition-column').get_text(strip=True).split()[-1][:-3]\n",
    "        \n",
    "    if nutr_elements_idx['potassium']:\n",
    "        potassium        = nutr_rows[nutr_elements_idx['potassium']].find(\n",
    "            class_='nutrition-column').get_text(strip=True).split()[-1][:-2]\n",
    "        \n",
    "    if nutr_elements_idx['iron']:\n",
    "        iron             = nutr_rows[nutr_elements_idx['iron']].find(\n",
    "            class_='nutrition-column').get_text(strip=True).split()[-1][:-2]\n",
    "        \n",
    "    if nutr_elements_idx['calcium']:\n",
    "        calcium          = nutr_rows[nutr_elements_idx['calcium']].find(\n",
    "            class_='nutrition-column').get_text(strip=True).split()[-1][:-2]\n",
    "    \n",
    "    nutr_data = [\n",
    "        serving_size,\n",
    "        calories,\n",
    "        total_fat_amount,\n",
    "        saturated_fat,\n",
    "        trans_fat,\n",
    "        cholesterol,\n",
    "        sodium,\n",
    "        carbs,\n",
    "        fiber,\n",
    "        sugars,\n",
    "        added_sugar,\n",
    "        protein,\n",
    "        vit_d,\n",
    "        potassium,\n",
    "        iron,\n",
    "        calcium\n",
    "    ]\n",
    "    return nutr_data"
   ]
  },
  {
   "cell_type": "code",
   "execution_count": 530,
   "id": "6df264db-6b3b-4112-8fc5-7f953fadc35d",
   "metadata": {
    "tags": []
   },
   "outputs": [
    {
     "name": "stderr",
     "output_type": "stream",
     "text": [
      "100%|██████████████████████████████████████████████████████████████████████████████| 7031/7031 [16:15<00:00,  7.21it/s]\n"
     ]
    }
   ],
   "source": [
    "serving_size_pattern = re.compile(r'\\((.*?)\\)')\n",
    "prod_with_nutr = []\n",
    "\n",
    "for product in tqdm(products):\n",
    "    #print(get_nutritional_data(product[3], serving_size_pattern))\n",
    "    nutr_values = get_nutritional_data(product[3], serving_size_pattern)\n",
    "    if nutr_values:\n",
    "        prod_with_nutr.append(\n",
    "            product + get_nutritional_data(product[3], serving_size_pattern)\n",
    "        )"
   ]
  },
  {
   "cell_type": "code",
   "execution_count": 533,
   "id": "1a2e34c6-a4d8-4507-9b61-3997d03370fb",
   "metadata": {
    "tags": []
   },
   "outputs": [],
   "source": [
    "cols = [\n",
    "    'product_name', 'product_brand', 'price', 'href', 'serving_size', 'calories', 'total_fat_amount', 'saturated_fat', 'trans_fat', 'cholesterol',\n",
    "    'sodium', 'carbs', 'fiber', 'sugars', 'added_sugar', 'protein', 'vit_d', 'potassium', 'iron', 'calcium'\n",
    "]\n",
    "\n",
    "df = pd.DataFrame(prod_with_nutr, columns=cols)\n",
    "df.to_csv('../data/df_with_nutr.csv', index=False)"
   ]
  },
  {
   "cell_type": "code",
   "execution_count": 537,
   "id": "12949be2-3dd5-44d4-ad9a-5dcebf883d96",
   "metadata": {
    "tags": []
   },
   "outputs": [
    {
     "data": {
      "text/plain": [
       "product_name        Organic Hamburger Buns, Classic White (8 Buns)...\n",
       "product_brand                               365 by Whole Foods Market\n",
       "price                                                           $4.39\n",
       "href                https://www.wholefoodsmarket.com/product/365-b...\n",
       "serving_size                                                       57\n",
       "calories                                                          150\n",
       "total_fat_amount                                                    2\n",
       "saturated_fat                                                       0\n",
       "trans_fat                                                           0\n",
       "cholesterol                                                         0\n",
       "sodium                                                            260\n",
       "carbs                                                              26\n",
       "fiber                                                               1\n",
       "sugars                                                              2\n",
       "added_sugar                                                         2\n",
       "protein                                                             5\n",
       "vit_d                                                               0\n",
       "potassium                                                           0\n",
       "iron                                                              0.4\n",
       "calcium                                                             0\n",
       "Name: 1000, dtype: object"
      ]
     },
     "execution_count": 537,
     "metadata": {},
     "output_type": "execute_result"
    }
   ],
   "source": [
    "df.iloc[1000]"
   ]
  },
  {
   "cell_type": "markdown",
   "id": "183c11db-2c74-4ead-8811-067885f588f0",
   "metadata": {},
   "source": [
    "## Serving Size"
   ]
  },
  {
   "cell_type": "code",
   "execution_count": 49,
   "id": "3c5e1471-a426-4cf3-a87a-85967516fcc9",
   "metadata": {
    "tags": []
   },
   "outputs": [],
   "source": [
    "df = pd.read_csv(\"../data/df_with_nutr.csv\")"
   ]
  },
  {
   "cell_type": "code",
   "execution_count": 50,
   "id": "e0059318-5b59-411d-baf5-e94f70070bf7",
   "metadata": {
    "tags": []
   },
   "outputs": [],
   "source": [
    "session = requests.Session()\n",
    "\n",
    "df[\"serving_size\"] = \"\"\n",
    "\n",
    "tqdm.pandas()"
   ]
  },
  {
   "cell_type": "code",
   "execution_count": 51,
   "id": "6aa98953-4388-4791-acf8-2f8bd561f279",
   "metadata": {
    "tags": []
   },
   "outputs": [],
   "source": [
    "def get_serving_size(row):\n",
    "    href = row.href\n",
    "    response = session.get(href)\n",
    "    soup = BeautifulSoup(response.text, 'html.parser')\n",
    "    serving = soup.find_all(class_='servings')\n",
    "    if not serving: return row\n",
    "    row[\"serving_size\"] = serving[0].get_text().split()[0]\n",
    "    return row"
   ]
  },
  {
   "cell_type": "code",
   "execution_count": 52,
   "id": "6a896f0c-e3cc-48e6-8eee-ab96ebde79ec",
   "metadata": {
    "tags": []
   },
   "outputs": [
    {
     "name": "stderr",
     "output_type": "stream",
     "text": [
      "100%|██████████████████████████████████████████████████████████████████████████████| 5493/5493 [11:29<00:00,  7.97it/s]\n"
     ]
    }
   ],
   "source": [
    "df = df.progress_apply(get_serving_size, axis=1)"
   ]
  },
  {
   "cell_type": "code",
   "execution_count": 64,
   "id": "9aeea839-c53f-4d62-a410-9961be1bdbf6",
   "metadata": {
    "tags": []
   },
   "outputs": [],
   "source": [
    "df.to_csv('../data/df_with_nutr_serv_size.csv', index=False)"
   ]
  },
  {
   "cell_type": "markdown",
   "id": "43e738dc-d7a4-4896-81bf-beb201a51ac2",
   "metadata": {},
   "source": [
    "## Categories\n",
    "possible dataset expansion"
   ]
  },
  {
   "cell_type": "code",
   "execution_count": 37,
   "id": "deb53f01-68cf-44d2-b80f-831dcfa37ff3",
   "metadata": {
    "tags": []
   },
   "outputs": [
    {
     "data": {
      "text/plain": [
       "['Dairy-Free',\n",
       " 'Paleo-Friendly',\n",
       " 'Sugar-Conscious',\n",
       " 'Vegetarian',\n",
       " 'Whole Foods Diet',\n",
       " 'Keto-Friendly',\n",
       " 'Organic',\n",
       " 'Local']"
      ]
     },
     "execution_count": 37,
     "metadata": {},
     "output_type": "execute_result"
    }
   ],
   "source": [
    "#soup_cookies.get_text()#.find(\"$\")#find_all(attrs={\"data-testid\": \"pdp-pricing-block\"})\n",
    "categories = []\n",
    "for badge in soup.find_all(class_='w-diet-badge__label'):\n",
    "    categories.append(badge.get_text())\n",
    "    \n",
    "categories"
   ]
  }
 ],
 "metadata": {
  "kernelspec": {
   "display_name": "Python 3 (ipykernel)",
   "language": "python",
   "name": "python3"
  },
  "language_info": {
   "codemirror_mode": {
    "name": "ipython",
    "version": 3
   },
   "file_extension": ".py",
   "mimetype": "text/x-python",
   "name": "python",
   "nbconvert_exporter": "python",
   "pygments_lexer": "ipython3",
   "version": "3.11.4"
  }
 },
 "nbformat": 4,
 "nbformat_minor": 5
}
